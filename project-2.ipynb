{
 "cells": [
  {
   "cell_type": "markdown",
   "metadata": {
    "slideshow": {
     "slide_type": "slide"
    }
   },
   "source": [
    "<div style=\"text-align: center\">\n",
    "\n",
    "<h1 style=\"font-size: 250%;\">Investigate A Dataset</h1>\n",
    "<h2>Abdulrahman Mohammed Alobaidy</h2>\n",
    "<h3>Cohort 9</h3>\n",
    "<h3>Data Analyst Nanodegree Program</h3>\n",
    "<h4>Email: <a href=\"mailto:AbdulrahmanAlobaidy2001@gmail.com\">AbdulrahmanAlobaidy2001@gmail.com</a></h4>\n",
    "\n",
    "</div>"
   ]
  },
  {
   "cell_type": "markdown",
   "metadata": {
    "slideshow": {
     "slide_type": "slide"
    }
   },
   "source": [
    "# Introduction\n",
    "***\n",
    "For this project I chose the \"No-show-appointments\" dataset available on [Kaggle](https://www.kaggle.com/joniarroba/noshowappointments), this is a dataset that contains information regarding patients and their attendence status, whether they showed up for the appointment or did not."
   ]
  },
  {
   "cell_type": "markdown",
   "metadata": {
    "slideshow": {
     "slide_type": "slide"
    }
   },
   "source": [
    "# Questions\n",
    "***\n",
    "Here are some questions that we intend to answer after taking a look at the dataset and analyzing it.\n",
    "\n",
    "1. What are the key factors that indicate whether a patient is going to show up for the appointment or not.\n",
    "2. What is there in common amongst people who show and people who don't.\n",
    "3. What are some relationships between the different variables that can be discovered during the exploration of this dataset.\n"
   ]
  },
  {
   "cell_type": "markdown",
   "metadata": {
    "slideshow": {
     "slide_type": "slide"
    }
   },
   "source": [
    "# About The Dataset\n",
    "***\n",
    "The dataset contains the records for over 100,000 appointments, each row has 14 characteristics or variables which are listed below along with their respective meaning.\n",
    "\n",
    "\n",
    "<div style=\"font-size: 17px; line-height: 200%;padding-left: 20px;\">\n",
    "\n",
    "<ol>    \n",
    "\n",
    "<li> <b>PatientId</b> : Identification of a patient</li>\n",
    "\n",
    "<li> <b>AppointmentID</b> : Identification of each appointment</li>\n",
    "\n",
    "<li> <b>Gender</b> : Male or Female</li>\n",
    "\n",
    "<li> <b>ScheduledDay</b> : The date when the appointment was set</li>\n",
    "\n",
    "<li> <b>AppointmentDay</b> : The date when the appointment took place</li>\n",
    "\n",
    "<li> <b>Age</b> : The patient's Age</li>\n",
    "\n",
    "<li> <b>Neighbourhood</b> : Where the appointment took place</li>\n",
    "\n",
    "<li> <b>Scholarship</b> : True or False, whether the patient is enrolled in the Brasilian welfare program <a href=\"https://en.wikipedia.org/wiki/Bolsa_Fam%C3%ADlia\">Bolsa Família</a></li>\n",
    "\n",
    "<li> <b>Hipertension</b> : True or False</li>\n",
    "\n",
    "<li> <b>Diabetes</b> : True or False</li>\n",
    "\n",
    "<li> <b>Alcoholism</b> : True or False</li>\n",
    "\n",
    "<li> <b>Handcap</b> : True or False</li>\n",
    "\n",
    "<li> <b>SMS_received</b> : True or False</li>\n",
    "\n",
    "<li> <b>No-show</b> : Yes or No, Yes if the person missed the appointment, No if the person did show</li>\n",
    "\n",
    "\n",
    "</ol>    \n",
    "\n",
    "</div>"
   ]
  },
  {
   "cell_type": "markdown",
   "metadata": {
    "slideshow": {
     "slide_type": "slide"
    }
   },
   "source": [
    "# Overview of the Dataset\n",
    "***\n",
    "First of all, let's take a look at what the dataset looks like and if there are a few abnormalities that we can detect."
   ]
  },
  {
   "cell_type": "code",
   "execution_count": 1,
   "metadata": {
    "slideshow": {
     "slide_type": "subslide"
    }
   },
   "outputs": [
    {
     "data": {
      "text/html": [
       "<div>\n",
       "<style scoped>\n",
       "    .dataframe tbody tr th:only-of-type {\n",
       "        vertical-align: middle;\n",
       "    }\n",
       "\n",
       "    .dataframe tbody tr th {\n",
       "        vertical-align: top;\n",
       "    }\n",
       "\n",
       "    .dataframe thead th {\n",
       "        text-align: right;\n",
       "    }\n",
       "</style>\n",
       "<table border=\"1\" class=\"dataframe\">\n",
       "  <thead>\n",
       "    <tr style=\"text-align: right;\">\n",
       "      <th></th>\n",
       "      <th>PatientId</th>\n",
       "      <th>AppointmentID</th>\n",
       "      <th>Gender</th>\n",
       "      <th>ScheduledDay</th>\n",
       "      <th>AppointmentDay</th>\n",
       "      <th>Age</th>\n",
       "      <th>Neighbourhood</th>\n",
       "      <th>Scholarship</th>\n",
       "      <th>Hipertension</th>\n",
       "      <th>Diabetes</th>\n",
       "      <th>Alcoholism</th>\n",
       "      <th>Handcap</th>\n",
       "      <th>SMS_received</th>\n",
       "      <th>No-show</th>\n",
       "    </tr>\n",
       "  </thead>\n",
       "  <tbody>\n",
       "    <tr>\n",
       "      <th>0</th>\n",
       "      <td>2.987250e+13</td>\n",
       "      <td>5642903</td>\n",
       "      <td>F</td>\n",
       "      <td>2016-04-29T18:38:08Z</td>\n",
       "      <td>2016-04-29T00:00:00Z</td>\n",
       "      <td>62</td>\n",
       "      <td>JARDIM DA PENHA</td>\n",
       "      <td>0</td>\n",
       "      <td>1</td>\n",
       "      <td>0</td>\n",
       "      <td>0</td>\n",
       "      <td>0</td>\n",
       "      <td>0</td>\n",
       "      <td>No</td>\n",
       "    </tr>\n",
       "    <tr>\n",
       "      <th>1</th>\n",
       "      <td>5.589978e+14</td>\n",
       "      <td>5642503</td>\n",
       "      <td>M</td>\n",
       "      <td>2016-04-29T16:08:27Z</td>\n",
       "      <td>2016-04-29T00:00:00Z</td>\n",
       "      <td>56</td>\n",
       "      <td>JARDIM DA PENHA</td>\n",
       "      <td>0</td>\n",
       "      <td>0</td>\n",
       "      <td>0</td>\n",
       "      <td>0</td>\n",
       "      <td>0</td>\n",
       "      <td>0</td>\n",
       "      <td>No</td>\n",
       "    </tr>\n",
       "    <tr>\n",
       "      <th>2</th>\n",
       "      <td>4.262962e+12</td>\n",
       "      <td>5642549</td>\n",
       "      <td>F</td>\n",
       "      <td>2016-04-29T16:19:04Z</td>\n",
       "      <td>2016-04-29T00:00:00Z</td>\n",
       "      <td>62</td>\n",
       "      <td>MATA DA PRAIA</td>\n",
       "      <td>0</td>\n",
       "      <td>0</td>\n",
       "      <td>0</td>\n",
       "      <td>0</td>\n",
       "      <td>0</td>\n",
       "      <td>0</td>\n",
       "      <td>No</td>\n",
       "    </tr>\n",
       "    <tr>\n",
       "      <th>3</th>\n",
       "      <td>8.679512e+11</td>\n",
       "      <td>5642828</td>\n",
       "      <td>F</td>\n",
       "      <td>2016-04-29T17:29:31Z</td>\n",
       "      <td>2016-04-29T00:00:00Z</td>\n",
       "      <td>8</td>\n",
       "      <td>PONTAL DE CAMBURI</td>\n",
       "      <td>0</td>\n",
       "      <td>0</td>\n",
       "      <td>0</td>\n",
       "      <td>0</td>\n",
       "      <td>0</td>\n",
       "      <td>0</td>\n",
       "      <td>No</td>\n",
       "    </tr>\n",
       "    <tr>\n",
       "      <th>4</th>\n",
       "      <td>8.841186e+12</td>\n",
       "      <td>5642494</td>\n",
       "      <td>F</td>\n",
       "      <td>2016-04-29T16:07:23Z</td>\n",
       "      <td>2016-04-29T00:00:00Z</td>\n",
       "      <td>56</td>\n",
       "      <td>JARDIM DA PENHA</td>\n",
       "      <td>0</td>\n",
       "      <td>1</td>\n",
       "      <td>1</td>\n",
       "      <td>0</td>\n",
       "      <td>0</td>\n",
       "      <td>0</td>\n",
       "      <td>No</td>\n",
       "    </tr>\n",
       "  </tbody>\n",
       "</table>\n",
       "</div>"
      ],
      "text/plain": [
       "      PatientId  AppointmentID Gender          ScheduledDay  \\\n",
       "0  2.987250e+13        5642903      F  2016-04-29T18:38:08Z   \n",
       "1  5.589978e+14        5642503      M  2016-04-29T16:08:27Z   \n",
       "2  4.262962e+12        5642549      F  2016-04-29T16:19:04Z   \n",
       "3  8.679512e+11        5642828      F  2016-04-29T17:29:31Z   \n",
       "4  8.841186e+12        5642494      F  2016-04-29T16:07:23Z   \n",
       "\n",
       "         AppointmentDay  Age      Neighbourhood  Scholarship  Hipertension  \\\n",
       "0  2016-04-29T00:00:00Z   62    JARDIM DA PENHA            0             1   \n",
       "1  2016-04-29T00:00:00Z   56    JARDIM DA PENHA            0             0   \n",
       "2  2016-04-29T00:00:00Z   62      MATA DA PRAIA            0             0   \n",
       "3  2016-04-29T00:00:00Z    8  PONTAL DE CAMBURI            0             0   \n",
       "4  2016-04-29T00:00:00Z   56    JARDIM DA PENHA            0             1   \n",
       "\n",
       "   Diabetes  Alcoholism  Handcap  SMS_received No-show  \n",
       "0         0           0        0             0      No  \n",
       "1         0           0        0             0      No  \n",
       "2         0           0        0             0      No  \n",
       "3         0           0        0             0      No  \n",
       "4         1           0        0             0      No  "
      ]
     },
     "execution_count": 1,
     "metadata": {},
     "output_type": "execute_result"
    }
   ],
   "source": [
    "import numpy as np\n",
    "import pandas as pd\n",
    "import matplotlib.pyplot as plt\n",
    "import seaborn as sns\n",
    "%matplotlib inline\n",
    "\n",
    "df = pd.read_csv('noshowappointments-kagglev2-may-2016.csv')\n",
    "\n",
    "df.head()"
   ]
  },
  {
   "cell_type": "markdown",
   "metadata": {
    "slideshow": {
     "slide_type": "fragment"
    }
   },
   "source": [
    "The first things I notice are the columns named `Hipertension` and `Handcap`, the word 'Hipertension' is Spanish for 'Hypertension', while the second one is just the word 'Handicap' misspelled."
   ]
  },
  {
   "cell_type": "markdown",
   "metadata": {
    "slideshow": {
     "slide_type": "fragment"
    }
   },
   "source": [
    "The second thing I see is that the values of the 'No-show' column are rather confusing, so we will need to take a look at that too."
   ]
  },
  {
   "cell_type": "markdown",
   "metadata": {
    "slideshow": {
     "slide_type": "subslide"
    }
   },
   "source": [
    "Now, let's take a look at the data types of the variables, along with their non-null values."
   ]
  },
  {
   "cell_type": "code",
   "execution_count": 2,
   "metadata": {
    "slideshow": {
     "slide_type": "fragment"
    }
   },
   "outputs": [
    {
     "name": "stdout",
     "output_type": "stream",
     "text": [
      "<class 'pandas.core.frame.DataFrame'>\n",
      "RangeIndex: 110527 entries, 0 to 110526\n",
      "Data columns (total 14 columns):\n",
      " #   Column          Non-Null Count   Dtype  \n",
      "---  ------          --------------   -----  \n",
      " 0   PatientId       110527 non-null  float64\n",
      " 1   AppointmentID   110527 non-null  int64  \n",
      " 2   Gender          110527 non-null  object \n",
      " 3   ScheduledDay    110527 non-null  object \n",
      " 4   AppointmentDay  110527 non-null  object \n",
      " 5   Age             110527 non-null  int64  \n",
      " 6   Neighbourhood   110527 non-null  object \n",
      " 7   Scholarship     110527 non-null  int64  \n",
      " 8   Hipertension    110527 non-null  int64  \n",
      " 9   Diabetes        110527 non-null  int64  \n",
      " 10  Alcoholism      110527 non-null  int64  \n",
      " 11  Handcap         110527 non-null  int64  \n",
      " 12  SMS_received    110527 non-null  int64  \n",
      " 13  No-show         110527 non-null  object \n",
      "dtypes: float64(1), int64(8), object(5)\n",
      "memory usage: 11.8+ MB\n"
     ]
    }
   ],
   "source": [
    "df.info()"
   ]
  },
  {
   "cell_type": "markdown",
   "metadata": {
    "slideshow": {
     "slide_type": "fragment"
    }
   },
   "source": [
    "We notice that both, the `ScheduledDay` and the `AppointmentDay` columns are of data type `string`, so we need to change these to datetime objects."
   ]
  },
  {
   "cell_type": "markdown",
   "metadata": {
    "slideshow": {
     "slide_type": "subslide"
    }
   },
   "source": [
    "Now we are going to take a look at the unique values of each variable."
   ]
  },
  {
   "cell_type": "code",
   "execution_count": 3,
   "metadata": {
    "slideshow": {
     "slide_type": "fragment"
    }
   },
   "outputs": [
    {
     "data": {
      "text/plain": [
       "PatientId          62299\n",
       "AppointmentID     110527\n",
       "Gender                 2\n",
       "ScheduledDay      103549\n",
       "AppointmentDay        27\n",
       "Age                  104\n",
       "Neighbourhood         81\n",
       "Scholarship            2\n",
       "Hipertension           2\n",
       "Diabetes               2\n",
       "Alcoholism             2\n",
       "Handcap                5\n",
       "SMS_received           2\n",
       "No-show                2\n",
       "dtype: int64"
      ]
     },
     "execution_count": 3,
     "metadata": {},
     "output_type": "execute_result"
    }
   ],
   "source": [
    "df.nunique()"
   ]
  },
  {
   "cell_type": "markdown",
   "metadata": {
    "slideshow": {
     "slide_type": "fragment"
    }
   },
   "source": [
    "We have:\n",
    "\n",
    "* `62299` unique patients\n",
    "* `110527` appointments\n",
    "* `81` neighbourhoods\n",
    "* The `Handcap` field seems problematic, it is supposed to be boolean, but instead it has five values   \n"
   ]
  },
  {
   "cell_type": "code",
   "execution_count": 4,
   "metadata": {
    "slideshow": {
     "slide_type": "subslide"
    }
   },
   "outputs": [
    {
     "data": {
      "text/plain": [
       "('2015-11-10T07:13:56Z', '2016-06-08T20:07:23Z')"
      ]
     },
     "execution_count": 4,
     "metadata": {},
     "output_type": "execute_result"
    }
   ],
   "source": [
    "df['ScheduledDay'].min(), df['ScheduledDay'].max()"
   ]
  },
  {
   "cell_type": "code",
   "execution_count": 5,
   "metadata": {},
   "outputs": [
    {
     "data": {
      "text/plain": [
       "('2016-04-29T00:00:00Z', '2016-06-08T00:00:00Z')"
      ]
     },
     "execution_count": 5,
     "metadata": {},
     "output_type": "execute_result"
    }
   ],
   "source": [
    "df['AppointmentDay'].min(), df['AppointmentDay'].max()"
   ]
  },
  {
   "cell_type": "markdown",
   "metadata": {},
   "source": [
    "The `ScheduledDay` variable starts on '2015-11-10' and ends on '2016-06-08', while `AppointmentDay` starts on '2016-04-29' and ends on '2016-06-08'."
   ]
  },
  {
   "cell_type": "markdown",
   "metadata": {
    "slideshow": {
     "slide_type": "subslide"
    }
   },
   "source": [
    "Now, let's apply the `describe` method to the DataFrame"
   ]
  },
  {
   "cell_type": "code",
   "execution_count": 6,
   "metadata": {
    "slideshow": {
     "slide_type": "fragment"
    }
   },
   "outputs": [
    {
     "data": {
      "text/html": [
       "<div>\n",
       "<style scoped>\n",
       "    .dataframe tbody tr th:only-of-type {\n",
       "        vertical-align: middle;\n",
       "    }\n",
       "\n",
       "    .dataframe tbody tr th {\n",
       "        vertical-align: top;\n",
       "    }\n",
       "\n",
       "    .dataframe thead th {\n",
       "        text-align: right;\n",
       "    }\n",
       "</style>\n",
       "<table border=\"1\" class=\"dataframe\">\n",
       "  <thead>\n",
       "    <tr style=\"text-align: right;\">\n",
       "      <th></th>\n",
       "      <th>PatientId</th>\n",
       "      <th>AppointmentID</th>\n",
       "      <th>Age</th>\n",
       "      <th>Scholarship</th>\n",
       "      <th>Hipertension</th>\n",
       "      <th>Diabetes</th>\n",
       "      <th>Alcoholism</th>\n",
       "      <th>Handcap</th>\n",
       "      <th>SMS_received</th>\n",
       "    </tr>\n",
       "  </thead>\n",
       "  <tbody>\n",
       "    <tr>\n",
       "      <th>count</th>\n",
       "      <td>1.105270e+05</td>\n",
       "      <td>1.105270e+05</td>\n",
       "      <td>110527.000000</td>\n",
       "      <td>110527.000000</td>\n",
       "      <td>110527.000000</td>\n",
       "      <td>110527.000000</td>\n",
       "      <td>110527.000000</td>\n",
       "      <td>110527.000000</td>\n",
       "      <td>110527.000000</td>\n",
       "    </tr>\n",
       "    <tr>\n",
       "      <th>mean</th>\n",
       "      <td>1.474963e+14</td>\n",
       "      <td>5.675305e+06</td>\n",
       "      <td>37.088874</td>\n",
       "      <td>0.098266</td>\n",
       "      <td>0.197246</td>\n",
       "      <td>0.071865</td>\n",
       "      <td>0.030400</td>\n",
       "      <td>0.022248</td>\n",
       "      <td>0.321026</td>\n",
       "    </tr>\n",
       "    <tr>\n",
       "      <th>std</th>\n",
       "      <td>2.560949e+14</td>\n",
       "      <td>7.129575e+04</td>\n",
       "      <td>23.110205</td>\n",
       "      <td>0.297675</td>\n",
       "      <td>0.397921</td>\n",
       "      <td>0.258265</td>\n",
       "      <td>0.171686</td>\n",
       "      <td>0.161543</td>\n",
       "      <td>0.466873</td>\n",
       "    </tr>\n",
       "    <tr>\n",
       "      <th>min</th>\n",
       "      <td>3.921784e+04</td>\n",
       "      <td>5.030230e+06</td>\n",
       "      <td>-1.000000</td>\n",
       "      <td>0.000000</td>\n",
       "      <td>0.000000</td>\n",
       "      <td>0.000000</td>\n",
       "      <td>0.000000</td>\n",
       "      <td>0.000000</td>\n",
       "      <td>0.000000</td>\n",
       "    </tr>\n",
       "    <tr>\n",
       "      <th>25%</th>\n",
       "      <td>4.172614e+12</td>\n",
       "      <td>5.640286e+06</td>\n",
       "      <td>18.000000</td>\n",
       "      <td>0.000000</td>\n",
       "      <td>0.000000</td>\n",
       "      <td>0.000000</td>\n",
       "      <td>0.000000</td>\n",
       "      <td>0.000000</td>\n",
       "      <td>0.000000</td>\n",
       "    </tr>\n",
       "    <tr>\n",
       "      <th>50%</th>\n",
       "      <td>3.173184e+13</td>\n",
       "      <td>5.680573e+06</td>\n",
       "      <td>37.000000</td>\n",
       "      <td>0.000000</td>\n",
       "      <td>0.000000</td>\n",
       "      <td>0.000000</td>\n",
       "      <td>0.000000</td>\n",
       "      <td>0.000000</td>\n",
       "      <td>0.000000</td>\n",
       "    </tr>\n",
       "    <tr>\n",
       "      <th>75%</th>\n",
       "      <td>9.439172e+13</td>\n",
       "      <td>5.725524e+06</td>\n",
       "      <td>55.000000</td>\n",
       "      <td>0.000000</td>\n",
       "      <td>0.000000</td>\n",
       "      <td>0.000000</td>\n",
       "      <td>0.000000</td>\n",
       "      <td>0.000000</td>\n",
       "      <td>1.000000</td>\n",
       "    </tr>\n",
       "    <tr>\n",
       "      <th>max</th>\n",
       "      <td>9.999816e+14</td>\n",
       "      <td>5.790484e+06</td>\n",
       "      <td>115.000000</td>\n",
       "      <td>1.000000</td>\n",
       "      <td>1.000000</td>\n",
       "      <td>1.000000</td>\n",
       "      <td>1.000000</td>\n",
       "      <td>4.000000</td>\n",
       "      <td>1.000000</td>\n",
       "    </tr>\n",
       "  </tbody>\n",
       "</table>\n",
       "</div>"
      ],
      "text/plain": [
       "          PatientId  AppointmentID            Age    Scholarship  \\\n",
       "count  1.105270e+05   1.105270e+05  110527.000000  110527.000000   \n",
       "mean   1.474963e+14   5.675305e+06      37.088874       0.098266   \n",
       "std    2.560949e+14   7.129575e+04      23.110205       0.297675   \n",
       "min    3.921784e+04   5.030230e+06      -1.000000       0.000000   \n",
       "25%    4.172614e+12   5.640286e+06      18.000000       0.000000   \n",
       "50%    3.173184e+13   5.680573e+06      37.000000       0.000000   \n",
       "75%    9.439172e+13   5.725524e+06      55.000000       0.000000   \n",
       "max    9.999816e+14   5.790484e+06     115.000000       1.000000   \n",
       "\n",
       "        Hipertension       Diabetes     Alcoholism        Handcap  \\\n",
       "count  110527.000000  110527.000000  110527.000000  110527.000000   \n",
       "mean        0.197246       0.071865       0.030400       0.022248   \n",
       "std         0.397921       0.258265       0.171686       0.161543   \n",
       "min         0.000000       0.000000       0.000000       0.000000   \n",
       "25%         0.000000       0.000000       0.000000       0.000000   \n",
       "50%         0.000000       0.000000       0.000000       0.000000   \n",
       "75%         0.000000       0.000000       0.000000       0.000000   \n",
       "max         1.000000       1.000000       1.000000       4.000000   \n",
       "\n",
       "        SMS_received  \n",
       "count  110527.000000  \n",
       "mean        0.321026  \n",
       "std         0.466873  \n",
       "min         0.000000  \n",
       "25%         0.000000  \n",
       "50%         0.000000  \n",
       "75%         1.000000  \n",
       "max         1.000000  "
      ]
     },
     "execution_count": 6,
     "metadata": {},
     "output_type": "execute_result"
    }
   ],
   "source": [
    "df.describe()"
   ]
  },
  {
   "cell_type": "markdown",
   "metadata": {
    "slideshow": {
     "slide_type": "fragment"
    }
   },
   "source": [
    "We notice that the `Age` variable has a minimum of `-1`, now we have to take this into account when cleaning the dataset."
   ]
  },
  {
   "cell_type": "markdown",
   "metadata": {
    "slideshow": {
     "slide_type": "slide"
    }
   },
   "source": [
    "# Cleaning the Dataset\n",
    "Now we have to take care of the problems that we found earlier, which are the following:\n",
    "* Renaming The columns `Hipertension` and `Handcap` to more appropriate names.\n",
    "* Reformating the `No-show` column.\n",
    "* Changing data types of `ScheduledDay` and `AppointmentDay` to `datetime` objects.\n",
    "* getting rid of the erroneous rows that contain invalid values for the `Handcap` variable.\n",
    "* Looking into the `-1` value in the `Age` variable."
   ]
  },
  {
   "cell_type": "markdown",
   "metadata": {
    "slideshow": {
     "slide_type": "subslide"
    }
   },
   "source": [
    "### Here, we change the column names to more appropriate ones."
   ]
  },
  {
   "cell_type": "code",
   "execution_count": 7,
   "metadata": {
    "slideshow": {
     "slide_type": "fragment"
    }
   },
   "outputs": [],
   "source": [
    "df.rename(columns = {'No-show' : 'did_show', 'Hipertension' : 'Hypertension', 'Handcap' : 'Handicap'}, inplace=True)"
   ]
  },
  {
   "cell_type": "markdown",
   "metadata": {
    "slideshow": {
     "slide_type": "subslide"
    }
   },
   "source": [
    "### Changing the `did_show` values to appropriate format"
   ]
  },
  {
   "cell_type": "code",
   "execution_count": 8,
   "metadata": {
    "slideshow": {
     "slide_type": "fragment"
    }
   },
   "outputs": [],
   "source": [
    "def show_to_int(string):\n",
    "    if string == 'No':\n",
    "        return 1\n",
    "    return 0\n",
    "\n",
    "df['did_show'] = df['did_show'].apply(show_to_int)"
   ]
  },
  {
   "cell_type": "markdown",
   "metadata": {
    "slideshow": {
     "slide_type": "fragment"
    }
   },
   "source": [
    "Now, if the `did_show` value is `1`, this means that the person showed up for the appointment, otherwise, he/she didn't."
   ]
  },
  {
   "cell_type": "markdown",
   "metadata": {
    "slideshow": {
     "slide_type": "subslide"
    }
   },
   "source": [
    "### Coverting the `ScheduledDay` and `AppointmentDay` data types to datetime objects"
   ]
  },
  {
   "cell_type": "code",
   "execution_count": 9,
   "metadata": {
    "slideshow": {
     "slide_type": "fragment"
    }
   },
   "outputs": [],
   "source": [
    "from datetime import datetime as dt\n",
    "\n",
    "def convert_to_datetime(string):\n",
    "    return dt.strptime(string, '%Y-%m-%dT%H:%M:%SZ')\n",
    "\n",
    "def convert_series_to_datetime(series):\n",
    "    return series.apply(convert_to_datetime)\n",
    "\n",
    "\n",
    "df[['ScheduledDay', 'AppointmentDay']] = df[['ScheduledDay', 'AppointmentDay']].apply(convert_series_to_datetime)"
   ]
  },
  {
   "cell_type": "markdown",
   "metadata": {
    "slideshow": {
     "slide_type": "subslide"
    }
   },
   "source": [
    "### Removing erroneous `Handicap` values"
   ]
  },
  {
   "cell_type": "code",
   "execution_count": 10,
   "metadata": {
    "slideshow": {
     "slide_type": "fragment"
    }
   },
   "outputs": [
    {
     "data": {
      "text/plain": [
       "0    108286\n",
       "1      2042\n",
       "2       183\n",
       "3        13\n",
       "4         3\n",
       "Name: Handicap, dtype: int64"
      ]
     },
     "execution_count": 10,
     "metadata": {},
     "output_type": "execute_result"
    }
   ],
   "source": [
    "df['Handicap'].value_counts()"
   ]
  },
  {
   "cell_type": "markdown",
   "metadata": {
    "slideshow": {
     "slide_type": "fragment"
    }
   },
   "source": [
    "Here we can see that there are a few rows that are non-binary"
   ]
  },
  {
   "cell_type": "code",
   "execution_count": 11,
   "metadata": {
    "slideshow": {
     "slide_type": "fragment"
    }
   },
   "outputs": [],
   "source": [
    "invalid_handicap_rows = df[df['Handicap'] > 1]\n",
    "\n",
    "df.drop(invalid_handicap_rows.index, inplace=True)"
   ]
  },
  {
   "cell_type": "markdown",
   "metadata": {
    "slideshow": {
     "slide_type": "subslide"
    }
   },
   "source": [
    "### Investigate erroneous `Age` value"
   ]
  },
  {
   "cell_type": "code",
   "execution_count": 12,
   "metadata": {
    "slideshow": {
     "slide_type": "fragment"
    }
   },
   "outputs": [
    {
     "data": {
      "text/html": [
       "<div>\n",
       "<style scoped>\n",
       "    .dataframe tbody tr th:only-of-type {\n",
       "        vertical-align: middle;\n",
       "    }\n",
       "\n",
       "    .dataframe tbody tr th {\n",
       "        vertical-align: top;\n",
       "    }\n",
       "\n",
       "    .dataframe thead th {\n",
       "        text-align: right;\n",
       "    }\n",
       "</style>\n",
       "<table border=\"1\" class=\"dataframe\">\n",
       "  <thead>\n",
       "    <tr style=\"text-align: right;\">\n",
       "      <th></th>\n",
       "      <th>PatientId</th>\n",
       "      <th>AppointmentID</th>\n",
       "      <th>Gender</th>\n",
       "      <th>ScheduledDay</th>\n",
       "      <th>AppointmentDay</th>\n",
       "      <th>Age</th>\n",
       "      <th>Neighbourhood</th>\n",
       "      <th>Scholarship</th>\n",
       "      <th>Hypertension</th>\n",
       "      <th>Diabetes</th>\n",
       "      <th>Alcoholism</th>\n",
       "      <th>Handicap</th>\n",
       "      <th>SMS_received</th>\n",
       "      <th>did_show</th>\n",
       "    </tr>\n",
       "  </thead>\n",
       "  <tbody>\n",
       "    <tr>\n",
       "      <th>99832</th>\n",
       "      <td>4.659432e+14</td>\n",
       "      <td>5775010</td>\n",
       "      <td>F</td>\n",
       "      <td>2016-06-06 08:58:13</td>\n",
       "      <td>2016-06-06</td>\n",
       "      <td>-1</td>\n",
       "      <td>ROMÃO</td>\n",
       "      <td>0</td>\n",
       "      <td>0</td>\n",
       "      <td>0</td>\n",
       "      <td>0</td>\n",
       "      <td>0</td>\n",
       "      <td>0</td>\n",
       "      <td>1</td>\n",
       "    </tr>\n",
       "  </tbody>\n",
       "</table>\n",
       "</div>"
      ],
      "text/plain": [
       "          PatientId  AppointmentID Gender        ScheduledDay AppointmentDay  \\\n",
       "99832  4.659432e+14        5775010      F 2016-06-06 08:58:13     2016-06-06   \n",
       "\n",
       "       Age Neighbourhood  Scholarship  Hypertension  Diabetes  Alcoholism  \\\n",
       "99832   -1         ROMÃO            0             0         0           0   \n",
       "\n",
       "       Handicap  SMS_received  did_show  \n",
       "99832         0             0         1  "
      ]
     },
     "execution_count": 12,
     "metadata": {},
     "output_type": "execute_result"
    }
   ],
   "source": [
    "age_err = df[df['Age'] == -1]\n",
    "\n",
    "age_err"
   ]
  },
  {
   "cell_type": "markdown",
   "metadata": {
    "slideshow": {
     "slide_type": "subslide"
    }
   },
   "source": [
    "Try to find another row for the same `PatientId` to maybe fix this error if the other row has a correct value"
   ]
  },
  {
   "cell_type": "code",
   "execution_count": 13,
   "metadata": {
    "slideshow": {
     "slide_type": "fragment"
    }
   },
   "outputs": [
    {
     "data": {
      "text/html": [
       "<div>\n",
       "<style scoped>\n",
       "    .dataframe tbody tr th:only-of-type {\n",
       "        vertical-align: middle;\n",
       "    }\n",
       "\n",
       "    .dataframe tbody tr th {\n",
       "        vertical-align: top;\n",
       "    }\n",
       "\n",
       "    .dataframe thead th {\n",
       "        text-align: right;\n",
       "    }\n",
       "</style>\n",
       "<table border=\"1\" class=\"dataframe\">\n",
       "  <thead>\n",
       "    <tr style=\"text-align: right;\">\n",
       "      <th></th>\n",
       "      <th>PatientId</th>\n",
       "      <th>AppointmentID_x</th>\n",
       "      <th>Gender_x</th>\n",
       "      <th>ScheduledDay_x</th>\n",
       "      <th>AppointmentDay_x</th>\n",
       "      <th>Age_x</th>\n",
       "      <th>Neighbourhood_x</th>\n",
       "      <th>Scholarship_x</th>\n",
       "      <th>Hypertension_x</th>\n",
       "      <th>Diabetes_x</th>\n",
       "      <th>...</th>\n",
       "      <th>AppointmentDay_y</th>\n",
       "      <th>Age_y</th>\n",
       "      <th>Neighbourhood_y</th>\n",
       "      <th>Scholarship_y</th>\n",
       "      <th>Hypertension_y</th>\n",
       "      <th>Diabetes_y</th>\n",
       "      <th>Alcoholism_y</th>\n",
       "      <th>Handicap_y</th>\n",
       "      <th>SMS_received_y</th>\n",
       "      <th>did_show_y</th>\n",
       "    </tr>\n",
       "  </thead>\n",
       "  <tbody>\n",
       "    <tr>\n",
       "      <th>0</th>\n",
       "      <td>4.659432e+14</td>\n",
       "      <td>5775010</td>\n",
       "      <td>F</td>\n",
       "      <td>2016-06-06 08:58:13</td>\n",
       "      <td>2016-06-06</td>\n",
       "      <td>-1</td>\n",
       "      <td>ROMÃO</td>\n",
       "      <td>0</td>\n",
       "      <td>0</td>\n",
       "      <td>0</td>\n",
       "      <td>...</td>\n",
       "      <td>2016-06-06</td>\n",
       "      <td>-1</td>\n",
       "      <td>ROMÃO</td>\n",
       "      <td>0</td>\n",
       "      <td>0</td>\n",
       "      <td>0</td>\n",
       "      <td>0</td>\n",
       "      <td>0</td>\n",
       "      <td>0</td>\n",
       "      <td>1</td>\n",
       "    </tr>\n",
       "  </tbody>\n",
       "</table>\n",
       "<p>1 rows × 27 columns</p>\n",
       "</div>"
      ],
      "text/plain": [
       "      PatientId  AppointmentID_x Gender_x      ScheduledDay_x  \\\n",
       "0  4.659432e+14          5775010        F 2016-06-06 08:58:13   \n",
       "\n",
       "  AppointmentDay_x  Age_x Neighbourhood_x  Scholarship_x  Hypertension_x  \\\n",
       "0       2016-06-06     -1           ROMÃO              0               0   \n",
       "\n",
       "   Diabetes_x  ...  AppointmentDay_y  Age_y  Neighbourhood_y  Scholarship_y  \\\n",
       "0           0  ...        2016-06-06     -1            ROMÃO              0   \n",
       "\n",
       "   Hypertension_y Diabetes_y Alcoholism_y Handicap_y  SMS_received_y  \\\n",
       "0               0          0            0          0               0   \n",
       "\n",
       "  did_show_y  \n",
       "0          1  \n",
       "\n",
       "[1 rows x 27 columns]"
      ]
     },
     "execution_count": 13,
     "metadata": {},
     "output_type": "execute_result"
    }
   ],
   "source": [
    "df.merge(age_err, on='PatientId', how='inner')"
   ]
  },
  {
   "cell_type": "markdown",
   "metadata": {
    "slideshow": {
     "slide_type": "fragment"
    }
   },
   "source": [
    "Unfortunately, there is only this row, so it is best to remove it"
   ]
  },
  {
   "cell_type": "code",
   "execution_count": 14,
   "metadata": {
    "slideshow": {
     "slide_type": "fragment"
    }
   },
   "outputs": [],
   "source": [
    "df.drop(age_err.index, inplace=True)"
   ]
  },
  {
   "cell_type": "markdown",
   "metadata": {
    "slideshow": {
     "slide_type": "slide"
    }
   },
   "source": [
    "# Modifying the Dataset\n",
    "Now I'm going to derive some features from the dataset, such as the days between the `ScheduledDay` and `AppointmentDay`, as well as the day of the week that the appointment is scheduled to take place, and whether it is a holiday or not and finally classfying ages into age ranges such as '20-30' and '30-40'."
   ]
  },
  {
   "cell_type": "markdown",
   "metadata": {
    "slideshow": {
     "slide_type": "subslide"
    }
   },
   "source": [
    "# Days Between"
   ]
  },
  {
   "cell_type": "code",
   "execution_count": 15,
   "metadata": {
    "slideshow": {
     "slide_type": "fragment"
    }
   },
   "outputs": [],
   "source": [
    "df['DaysBetween'] = df['AppointmentDay'] - df['ScheduledDay']"
   ]
  },
  {
   "cell_type": "markdown",
   "metadata": {
    "slideshow": {
     "slide_type": "fragment"
    }
   },
   "source": [
    "Now if we take a look at the new column, `DaysBetween`"
   ]
  },
  {
   "cell_type": "code",
   "execution_count": 16,
   "metadata": {
    "slideshow": {
     "slide_type": "fragment"
    }
   },
   "outputs": [
    {
     "data": {
      "text/plain": [
       "0   -1 days +05:21:52\n",
       "1   -1 days +07:51:33\n",
       "2   -1 days +07:40:56\n",
       "3   -1 days +06:30:29\n",
       "4   -1 days +07:52:37\n",
       "Name: DaysBetween, dtype: timedelta64[ns]"
      ]
     },
     "execution_count": 16,
     "metadata": {},
     "output_type": "execute_result"
    }
   ],
   "source": [
    "df['DaysBetween'].head()"
   ]
  },
  {
   "cell_type": "markdown",
   "metadata": {
    "slideshow": {
     "slide_type": "fragment"
    }
   },
   "source": [
    "We see that there are negative values, that is because the time between the two dates is less than one day, also, I'm interested in only the days not the date nor time, let's fix this"
   ]
  },
  {
   "cell_type": "code",
   "execution_count": 17,
   "metadata": {
    "slideshow": {
     "slide_type": "subslide"
    }
   },
   "outputs": [],
   "source": [
    "\n",
    "def fixDaysBetween(d):\n",
    "    # take the day from the datetime object\n",
    "    d = d.days\n",
    "    # if less than one day, consider it zero days\n",
    "    if d <= 0:\n",
    "        return 0\n",
    "    # else, return number of days between\n",
    "    else:\n",
    "        return d\n",
    "\n",
    "df['DaysBetween'] = df['DaysBetween'].apply(fixDaysBetween)"
   ]
  },
  {
   "cell_type": "code",
   "execution_count": 18,
   "metadata": {
    "slideshow": {
     "slide_type": "fragment"
    }
   },
   "outputs": [
    {
     "data": {
      "text/plain": [
       "0    0\n",
       "1    0\n",
       "2    0\n",
       "3    0\n",
       "4    0\n",
       "Name: DaysBetween, dtype: int64"
      ]
     },
     "execution_count": 18,
     "metadata": {},
     "output_type": "execute_result"
    }
   ],
   "source": [
    "df['DaysBetween'].head()"
   ]
  },
  {
   "cell_type": "markdown",
   "metadata": {
    "slideshow": {
     "slide_type": "fragment"
    }
   },
   "source": [
    "Now it's fixed"
   ]
  },
  {
   "cell_type": "markdown",
   "metadata": {
    "slideshow": {
     "slide_type": "subslide"
    }
   },
   "source": [
    "# Day of Week"
   ]
  },
  {
   "cell_type": "code",
   "execution_count": 19,
   "metadata": {
    "slideshow": {
     "slide_type": "fragment"
    }
   },
   "outputs": [],
   "source": [
    "def get_day_of_week(d):\n",
    "    return d.weekday()\n",
    "\n",
    "df['DayOfWeek'] = df['AppointmentDay'].apply(get_day_of_week)"
   ]
  },
  {
   "cell_type": "markdown",
   "metadata": {},
   "source": [
    "The days start from Monday being 0, all the way to Sunday being 6."
   ]
  },
  {
   "cell_type": "markdown",
   "metadata": {
    "slideshow": {
     "slide_type": "subslide"
    }
   },
   "source": [
    "# Is Weekday"
   ]
  },
  {
   "cell_type": "code",
   "execution_count": 20,
   "metadata": {
    "slideshow": {
     "slide_type": "fragment"
    }
   },
   "outputs": [
    {
     "data": {
      "text/plain": [
       "1    110288\n",
       "0        39\n",
       "Name: IsWeekDay, dtype: int64"
      ]
     },
     "execution_count": 20,
     "metadata": {},
     "output_type": "execute_result"
    }
   ],
   "source": [
    "def isWeekDay(day):\n",
    "    if day >= 0 and day <= 4:\n",
    "        return 1\n",
    "    return 0\n",
    "\n",
    "df['IsWeekDay'] = df['DayOfWeek'].apply(isWeekDay)\n",
    "\n",
    "df['IsWeekDay'].value_counts()"
   ]
  },
  {
   "cell_type": "markdown",
   "metadata": {
    "slideshow": {
     "slide_type": "subslide"
    }
   },
   "source": [
    "# Age Ranges\n",
    "We will attempt to classify the ages of the patients into catergories based on their age."
   ]
  },
  {
   "cell_type": "code",
   "execution_count": 21,
   "metadata": {
    "slideshow": {
     "slide_type": "fragment"
    }
   },
   "outputs": [
    {
     "data": {
      "text/plain": [
       "(array([  0,  10,  20,  30,  40,  50,  60,  70,  80,  90, 200]),\n",
       " ['0-10',\n",
       "  '10-20',\n",
       "  '20-30',\n",
       "  '30-40',\n",
       "  '40-50',\n",
       "  '50-60',\n",
       "  '60-70',\n",
       "  '70-80',\n",
       "  '80-90',\n",
       "  '90+'])"
      ]
     },
     "execution_count": 21,
     "metadata": {},
     "output_type": "execute_result"
    }
   ],
   "source": [
    "# the size of the age class\n",
    "steps = 10\n",
    "# creating a numpy array with the desired ranges and appending the 200 at the end in order to include the remaining of the ages\n",
    "age_ranges = np.append(np.arange(0, 100, steps), 200)\n",
    "# create a list to store the corresponding labels of the age classes\n",
    "age_ranges_labels = list()\n",
    "# loop over the age ranges\n",
    "for i in range(age_ranges.shape[0]):\n",
    "    # append the current number with the next number with a hyphen separating them, then append it to the labels list\n",
    "    age_ranges_labels.append(str(age_ranges[i]) + '-' + str(age_ranges[i + 1]))\n",
    "    # if the only range that is left is the x+ range, then append that to the labels list and break\n",
    "    if i == age_ranges.shape[0] - 3:\n",
    "        age_ranges_labels.append(str(age_ranges[i + 1]) + '+')\n",
    "        break\n",
    "age_ranges, age_ranges_labels"
   ]
  },
  {
   "cell_type": "markdown",
   "metadata": {
    "slideshow": {
     "slide_type": "subslide"
    }
   },
   "source": [
    "Now that we have generated the age ranges and their corresponding labels, let's classify the ages into their correct bins, know that this notation `0-10` corresponds to this range `[0, 10)`"
   ]
  },
  {
   "cell_type": "code",
   "execution_count": 22,
   "metadata": {
    "slideshow": {
     "slide_type": "fragment"
    }
   },
   "outputs": [],
   "source": [
    "df['AgeRange'] = pd.cut(df['Age'], age_ranges, labels=age_ranges_labels)"
   ]
  },
  {
   "cell_type": "code",
   "execution_count": 23,
   "metadata": {},
   "outputs": [
    {
     "data": {
      "text/plain": [
       "0    60-70\n",
       "1    50-60\n",
       "2    60-70\n",
       "3     0-10\n",
       "4    50-60\n",
       "Name: AgeRange, dtype: category\n",
       "Categories (10, object): ['0-10' < '10-20' < '20-30' < '30-40' ... '60-70' < '70-80' < '80-90' < '90+']"
      ]
     },
     "execution_count": 23,
     "metadata": {},
     "output_type": "execute_result"
    }
   ],
   "source": [
    "df['AgeRange'].head()"
   ]
  },
  {
   "cell_type": "markdown",
   "metadata": {
    "slideshow": {
     "slide_type": "subslide"
    }
   },
   "source": [
    "Now save the final dataset to a CSV file and name it `clean`"
   ]
  },
  {
   "cell_type": "code",
   "execution_count": 24,
   "metadata": {
    "slideshow": {
     "slide_type": "fragment"
    }
   },
   "outputs": [],
   "source": [
    "df.to_csv('clean.csv', index=False)"
   ]
  },
  {
   "cell_type": "markdown",
   "metadata": {
    "slideshow": {
     "slide_type": "slide"
    }
   },
   "source": [
    "# EDA\n",
    "***\n",
    "Finally, we get into the EDA or the Exploratory Data Analysis stage in which we view the data to uncover trends and gain insights about the variables and their relationships with one another and hopefully find answers to our questions that we posed earlier and perhaps ask new questions that we didn't think of before seeing the data."
   ]
  },
  {
   "cell_type": "markdown",
   "metadata": {
    "slideshow": {
     "slide_type": "subslide"
    }
   },
   "source": [
    "First of all, let's start by reading the cleaned CSV file and setting the `AppointmentID` column as the index."
   ]
  },
  {
   "cell_type": "code",
   "execution_count": 25,
   "metadata": {
    "scrolled": false,
    "slideshow": {
     "slide_type": "fragment"
    }
   },
   "outputs": [],
   "source": [
    "df = pd.read_csv('clean.csv', index_col='AppointmentID')"
   ]
  },
  {
   "cell_type": "markdown",
   "metadata": {
    "slideshow": {
     "slide_type": "subslide"
    }
   },
   "source": [
    "I will start to by creating histograms of all the numeric variables that we have in our dataset."
   ]
  },
  {
   "cell_type": "code",
   "execution_count": 26,
   "metadata": {
    "scrolled": false,
    "slideshow": {
     "slide_type": "fragment"
    }
   },
   "outputs": [],
   "source": [
    "df.hist(figsize=(12, 12), grid=False);"
   ]
  },
  {
   "cell_type": "markdown",
   "metadata": {},
   "source": [
    "<center>\n",
    "<img src=\"https://raw.githubusercontent.com/AbdulrahmanAlobaidy/DAND-project-2/master/histograms.png\" width=\"65%\" height=\"65%\">\n",
    "</center>"
   ]
  },
  {
   "cell_type": "markdown",
   "metadata": {
    "slideshow": {
     "slide_type": "subslide"
    }
   },
   "source": [
    "From the group of histograms we notice a few things, which are the following:\n",
    "\n",
    "<div style=\"font-size: 17px; line-height: 200%;padding-left: 20px;\">\n",
    "\n",
    "<ul>    \n",
    "\n",
    "<li>The age distribution is somewhat right skewed, with the majority of patients being of age 0-10, then 50-60</li>\n",
    "\n",
    "<li>The majority of the people don't have a welfare scholarship</li>\n",
    "    \n",
    "<li>The majority of the people don't have hypertension, diabetes, alcoholism nor handicap</li>\n",
    "    \n",
    "<li>Slightly less than half of the patients have received an SMS message</li>\n",
    "    \n",
    "<li>The majority of people did show up for their appointments</li>\n",
    "    \n",
    "<li>A high percentage of the patients had a zero-day waiting peroid between booking the appointment and the appointment's date</li>\n",
    "\n",
    "<li>The day of the week with the most appointments is Wednesday, followed by Tuesday by a slight difference, with a very small number of appointments made for Saturday and no appointments made for Sunday at all, this makes sense since these are weekends.</li>\n",
    "\n",
    "<li>As we can see in the last histogram that almost all of the appointments are made during weekdays not weekend.</li>\n",
    "    \n",
    "\n",
    "</ul>    \n",
    "\n",
    "</div>"
   ]
  },
  {
   "cell_type": "markdown",
   "metadata": {
    "slideshow": {
     "slide_type": "subslide"
    }
   },
   "source": [
    "Now, I want to create a pair plot between the variables and see if we can find any relationships between any of them."
   ]
  },
  {
   "cell_type": "code",
   "execution_count": 27,
   "metadata": {
    "slideshow": {
     "slide_type": "subslide"
    }
   },
   "outputs": [],
   "source": [
    "sns.pairplot(df, vars=['Age', 'Scholarship', 'Hypertension', 'Diabetes', 'Alcoholism', 'Handicap', 'SMS_received', 'IsWeekDay',\n",
    "                      'DayOfWeek', 'DaysBetween', 'did_show'], kind='scatter', diag_kind='kde');"
   ]
  },
  {
   "cell_type": "markdown",
   "metadata": {
    "slideshow": {
     "slide_type": "-"
    }
   },
   "source": [
    "<center>\n",
    "<img src=\"https://raw.githubusercontent.com/AbdulrahmanAlobaidy/DAND-project-2/master/pairplot.png\" width=\"65%\" height=\"65%\">\n",
    "</center>"
   ]
  },
  {
   "cell_type": "markdown",
   "metadata": {
    "slideshow": {
     "slide_type": "subslide"
    }
   },
   "source": [
    "Here, all of the variables are categorical except the `Age`, so scatter plots between them won't tell us much, but the `Age` variable, which is quantitative, can be used to see the distribution of ages among the different categories, but overall, nothing helpful was derived from this visual alone."
   ]
  },
  {
   "cell_type": "markdown",
   "metadata": {
    "slideshow": {
     "slide_type": "subslide"
    }
   },
   "source": [
    "Now, I'm going to introduce a function that we will use throughout this documentation that will allow us to get the proportions of given data in a series."
   ]
  },
  {
   "cell_type": "code",
   "execution_count": 28,
   "metadata": {
    "slideshow": {
     "slide_type": "fragment"
    }
   },
   "outputs": [],
   "source": [
    "def get_props(series):\n",
    "\n",
    "    # get total number of rows\n",
    "    count = series.count()\n",
    "\n",
    "    # get the number of 1s in the series\n",
    "    total1 = series.sum()\n",
    "\n",
    "    # calculate the proportion of the 1s in the series\n",
    "    prop1 = total1 / count\n",
    "    # calculate the proportion of the 0s in the series\n",
    "    prop2 = 1 - prop1\n",
    "\n",
    "    # return a tuple\n",
    "    return prop1, prop2"
   ]
  },
  {
   "cell_type": "markdown",
   "metadata": {
    "slideshow": {
     "slide_type": "subslide"
    }
   },
   "source": [
    "Some of the variables that you will see throughout this documentation will be starting with `gb_` this stands for 'Group By', then followed by the variable(s) that the data is group by, for example `gb_x` corresponds to `df.groupby('x')` and `gb_x_y` corrseponds to `df.groupby(['x', 'y'])`"
   ]
  },
  {
   "cell_type": "markdown",
   "metadata": {
    "slideshow": {
     "slide_type": "subslide"
    }
   },
   "source": [
    "Now, I'll start analyzing and visualizing the data that we have and try to uncover relationships between them."
   ]
  },
  {
   "cell_type": "markdown",
   "metadata": {
    "slideshow": {
     "slide_type": "subslide"
    }
   },
   "source": [
    "First I will get the of proportions of patients that attended and those who didn't."
   ]
  },
  {
   "cell_type": "code",
   "execution_count": 29,
   "metadata": {
    "slideshow": {
     "slide_type": "fragment"
    }
   },
   "outputs": [
    {
     "data": {
      "text/plain": [
       "(0.7980730011692514, 0.2019269988307486)"
      ]
     },
     "execution_count": 29,
     "metadata": {},
     "output_type": "execute_result"
    },
    {
     "data": {
      "image/png": "[encoded data removed]",
      "text/plain": [
       "<Figure size 360x360 with 1 Axes>"
      ]
     },
     "metadata": {
      "needs_background": "light"
     },
     "output_type": "display_data"
    }
   ],
   "source": [
    "plt.subplots(figsize=(5,5))\n",
    "plt.bar([1,2], get_props(df['did_show']), tick_label=[\"Did Show\", \"Didn't Show\"]);\n",
    "\n",
    "get_props(df['did_show'])"
   ]
  },
  {
   "cell_type": "markdown",
   "metadata": {
    "slideshow": {
     "slide_type": "fragment"
    }
   },
   "source": [
    "About 80% of the appointments that were made, the patients attended, while about 20% didn't show up."
   ]
  },
  {
   "cell_type": "markdown",
   "metadata": {
    "slideshow": {
     "slide_type": "subslide"
    }
   },
   "source": [
    "Now, I'm going to get the proportions of appointments made by gender"
   ]
  },
  {
   "cell_type": "code",
   "execution_count": 30,
   "metadata": {
    "slideshow": {
     "slide_type": "subslide"
    }
   },
   "outputs": [
    {
     "data": {
      "text/plain": [
       "Gender\n",
       "F    71730\n",
       "M    38597\n",
       "Name: PatientId, dtype: int64"
      ]
     },
     "execution_count": 30,
     "metadata": {},
     "output_type": "execute_result"
    },
    {
     "data": {
      "image/png": "[encoded data removed]",
      "text/plain": [
       "<Figure size 288x288 with 1 Axes>"
      ]
     },
     "metadata": {
      "needs_background": "light"
     },
     "output_type": "display_data"
    }
   ],
   "source": [
    "gb_gender = df.groupby('Gender')\n",
    "\n",
    "gender_count = gb_gender.count()['PatientId']\n",
    "\n",
    "plt.subplots(figsize=(4,4))\n",
    "\n",
    "plt.bar([1,2], gender_count, tick_label=['Female', 'Male']);\n",
    "\n",
    "gender_count"
   ]
  },
  {
   "cell_type": "markdown",
   "metadata": {
    "slideshow": {
     "slide_type": "subslide"
    }
   },
   "source": [
    "Now let's find out how many of the patients are either male or female."
   ]
  },
  {
   "cell_type": "code",
   "execution_count": 31,
   "metadata": {
    "slideshow": {
     "slide_type": "fragment"
    }
   },
   "outputs": [
    {
     "data": {
      "image/png": "[encoded data removed]",
      "text/plain": [
       "<Figure size 432x288 with 1 Axes>"
      ]
     },
     "metadata": {
      "needs_background": "light"
     },
     "output_type": "display_data"
    }
   ],
   "source": [
    "gb_patientId = df.groupby('PatientId')\n",
    "\n",
    "# take only the gender from the first row of each group, since we don't want to count the extra appointment rows of the group\n",
    "gb_patientId.first()['Gender'].hist(grid=False);"
   ]
  },
  {
   "cell_type": "markdown",
   "metadata": {
    "slideshow": {
     "slide_type": "fragment"
    }
   },
   "source": [
    "The female appointments in total where almost double the male appointments."
   ]
  },
  {
   "cell_type": "markdown",
   "metadata": {
    "slideshow": {
     "slide_type": "subslide"
    }
   },
   "source": [
    "Now, let's compare the total shows and no shows for both genders"
   ]
  },
  {
   "cell_type": "code",
   "execution_count": 32,
   "metadata": {
    "slideshow": {
     "slide_type": "fragment"
    }
   },
   "outputs": [
    {
     "data": {
      "image/png": "[encoded data removed]",
      "text/plain": [
       "<Figure size 432x432 with 1 Axes>"
      ]
     },
     "metadata": {
      "needs_background": "light"
     },
     "output_type": "display_data"
    }
   ],
   "source": [
    "gb_gender['did_show'].hist(figsize=(6,6), legend=True, grid=False);\n",
    "\n",
    "plt.xticks([0.05,0.95], [\"Didn't Show\", \"Did Show\"])\n",
    "plt.title('Total Shows and No Shows by Gender');"
   ]
  },
  {
   "cell_type": "markdown",
   "metadata": {
    "slideshow": {
     "slide_type": "subslide"
    }
   },
   "source": [
    "Now, let's get the proportions of shows and no shows by gender rather than the total."
   ]
  },
  {
   "cell_type": "code",
   "execution_count": 33,
   "metadata": {
    "slideshow": {
     "slide_type": "subslide"
    }
   },
   "outputs": [
    {
     "data": {
      "image/png": "[encoded data removed]",
      "text/plain": [
       "<Figure size 720x288 with 1 Axes>"
      ]
     },
     "metadata": {
      "needs_background": "light"
     },
     "output_type": "display_data"
    }
   ],
   "source": [
    "total_gender_show_prop, total_gender_no_show_prop = get_props(gb_gender['did_show'])\n",
    "\n",
    "\n",
    "locations = np.arange(len(total_gender_show_prop))\n",
    "\n",
    "female_show_props = [total_gender_show_prop['F'], total_gender_no_show_prop['F']]\n",
    "\n",
    "male_show_props = [total_gender_show_prop['M'], total_gender_no_show_prop['M']]\n",
    "\n",
    "width = 0.35\n",
    "\n",
    "plt.subplots(figsize=(10, 4))\n",
    "\n",
    "plt.bar(locations, female_show_props, width=width, label='Female')\n",
    "plt.bar(locations + width, male_show_props, width=width, label='Male')\n",
    "\n",
    "plt.title('Show and No Show Proportions By Gender')\n",
    "\n",
    "plt.xticks(locations + width / 2, [\"Did Show\", \"Didn't Show\"])\n",
    "plt.legend();"
   ]
  },
  {
   "cell_type": "markdown",
   "metadata": {
    "slideshow": {
     "slide_type": "subslide"
    }
   },
   "source": [
    "Now, showing the ages for patients that showed vs. those who didn't."
   ]
  },
  {
   "cell_type": "code",
   "execution_count": 34,
   "metadata": {
    "slideshow": {
     "slide_type": "fragment"
    }
   },
   "outputs": [
    {
     "data": {
      "image/png": "[encoded data removed]",
      "text/plain": [
       "<Figure size 432x288 with 1 Axes>"
      ]
     },
     "metadata": {
      "needs_background": "light"
     },
     "output_type": "display_data"
    }
   ],
   "source": [
    "df.query('did_show == 1')['Age'].hist(label=\"Did Show\")\n",
    "df.query('did_show == 0')['Age'].hist(label=\"Didn't Show\")\n",
    "\n",
    "plt.title('Ages By Attendence')\n",
    "plt.xlabel('Ages')\n",
    "plt.ylabel('Frequency')\n",
    "plt.legend();"
   ]
  },
  {
   "cell_type": "markdown",
   "metadata": {
    "slideshow": {
     "slide_type": "fragment"
    }
   },
   "source": [
    "The distributions are a little bit close in shape, but differ a lot in frequency."
   ]
  },
  {
   "cell_type": "markdown",
   "metadata": {
    "slideshow": {
     "slide_type": "subslide"
    }
   },
   "source": [
    "Now displaying the mean ages for showing and not showing."
   ]
  },
  {
   "cell_type": "code",
   "execution_count": 36,
   "metadata": {
    "slideshow": {
     "slide_type": "fragment"
    }
   },
   "outputs": [
    {
     "data": {
      "text/plain": [
       "did_show\n",
       "0    34.279109\n",
       "1    37.777090\n",
       "Name: Age, dtype: float64"
      ]
     },
     "execution_count": 36,
     "metadata": {},
     "output_type": "execute_result"
    },
    {
     "data": {
      "image/png": "[encoded data removed]",
      "text/plain": [
       "<Figure size 432x288 with 1 Axes>"
      ]
     },
     "metadata": {
      "needs_background": "light"
     },
     "output_type": "display_data"
    }
   ],
   "source": [
    "gb_show = df.groupby('did_show')\n",
    "\n",
    "plt.bar([1,2], gb_show['Age'].mean(), tick_label=[\"Didn't Show\", \"Did Show\"]);\n",
    "\n",
    "plt.title('Mean Age According For Show or No Show')\n",
    "\n",
    "plt.ylabel('Mean Age')\n",
    "\n",
    "\n",
    "gb_show['Age'].mean()"
   ]
  },
  {
   "cell_type": "markdown",
   "metadata": {
    "slideshow": {
     "slide_type": "subslide"
    }
   },
   "source": [
    "Displaying the total of shows and no shows for each day of the week in order to determine if a certain one is more likely to have more missed appointments than the others."
   ]
  },
  {
   "cell_type": "code",
   "execution_count": 37,
   "metadata": {
    "slideshow": {
     "slide_type": "subslide"
    }
   },
   "outputs": [
    {
     "data": {
      "image/png": "[encoded data removed]",
      "text/plain": [
       "<Figure size 504x360 with 1 Axes>"
      ]
     },
     "metadata": {
      "needs_background": "light"
     },
     "output_type": "display_data"
    }
   ],
   "source": [
    "gb_show_dow = df.groupby(['did_show', 'DayOfWeek'])\n",
    "\n",
    "\n",
    "locations = np.arange(6)\n",
    "\n",
    "width = 0.45\n",
    "\n",
    "plt.subplots(figsize=(7, 5))\n",
    "\n",
    "plt.bar(locations, gb_show_dow.count()['PatientId'].iloc[:6], width=width, label=\"Didn't Show\")\n",
    "plt.bar(locations + width, gb_show_dow.count()['PatientId'].iloc[6:], width=width, label=\"Did Show\")\n",
    "\n",
    "plt.xticks(locations + width / 2, ['Monday', 'Tuesday', 'Wednesday', 'Thursday', 'Friday', 'Saturday'])\n",
    "plt.legend();"
   ]
  },
  {
   "cell_type": "markdown",
   "metadata": {
    "slideshow": {
     "slide_type": "subslide"
    }
   },
   "source": [
    "Now, the proportions of shows and no shows per day of week."
   ]
  },
  {
   "cell_type": "code",
   "execution_count": 38,
   "metadata": {
    "slideshow": {
     "slide_type": "subslide"
    }
   },
   "outputs": [
    {
     "data": {
      "image/png": "[encoded data removed]",
      "text/plain": [
       "<Figure size 504x360 with 1 Axes>"
      ]
     },
     "metadata": {
      "needs_background": "light"
     },
     "output_type": "display_data"
    }
   ],
   "source": [
    "gb_dow = df.groupby('DayOfWeek')\n",
    "\n",
    "\n",
    "locations = np.arange(6)\n",
    "\n",
    "width = 0.45\n",
    "\n",
    "plt.subplots(figsize=(7, 5))\n",
    "\n",
    "plt.bar(locations, get_props(gb_dow['did_show'])[0], width=width, label=\"Did Show\")\n",
    "plt.bar(locations + width, get_props(gb_dow['did_show'])[1], width=width, label=\"Didn't Show\")\n",
    "\n",
    "plt.xticks(locations + width / 2, ['Monday', 'Tuesday', 'Wednesday', 'Thursday', 'Friday', 'Saturday'])\n",
    "plt.legend();"
   ]
  },
  {
   "cell_type": "markdown",
   "metadata": {
    "slideshow": {
     "slide_type": "subslide"
    }
   },
   "source": [
    "All of the days have similar attendence rate, as well as no show rate."
   ]
  },
  {
   "cell_type": "markdown",
   "metadata": {
    "slideshow": {
     "slide_type": "subslide"
    }
   },
   "source": [
    "Now, we will take a look at the mean of days between the `ScheduledDay` and `AppointmentDay` to perhaps find a correlation between the `DaysBetween` and the status of attendence."
   ]
  },
  {
   "cell_type": "code",
   "execution_count": 39,
   "metadata": {
    "slideshow": {
     "slide_type": "fragment"
    }
   },
   "outputs": [
    {
     "data": {
      "image/png": "[encoded data removed]",
      "text/plain": [
       "<Figure size 432x288 with 1 Axes>"
      ]
     },
     "metadata": {
      "needs_background": "light"
     },
     "output_type": "display_data"
    }
   ],
   "source": [
    "locations = np.arange(2)\n",
    "\n",
    "plt.bar(locations, gb_show['DaysBetween'].mean(), tick_label=[\"Didn't Show\", \"Did Show\"])\n",
    "\n",
    "plt.xticks(locations,  [\"Didn't Show\", \"Did Show\"])\n",
    "\n",
    "plt.title('Mean Days Between ScheduledDay and AppoointmentDay For Both Groups')\n",
    "plt.ylabel('Days')\n",
    "plt.xlabel('Groups');"
   ]
  },
  {
   "cell_type": "markdown",
   "metadata": {
    "slideshow": {
     "slide_type": "subslide"
    }
   },
   "source": [
    "It seems that the patients who missed the appointment had a longer waiting period than those who didn't."
   ]
  },
  {
   "cell_type": "markdown",
   "metadata": {
    "slideshow": {
     "slide_type": "subslide"
    }
   },
   "source": [
    "Now, let's plot each neighbourhood's total shows to maybe identify neighbourhoods that are better than others."
   ]
  },
  {
   "cell_type": "code",
   "execution_count": 40,
   "metadata": {
    "slideshow": {
     "slide_type": "subslide"
    }
   },
   "outputs": [
    {
     "data": {
      "image/png": "[encoded data removed]",
      "text/plain": [
       "<Figure size 1440x360 with 1 Axes>"
      ]
     },
     "metadata": {
      "needs_background": "light"
     },
     "output_type": "display_data"
    }
   ],
   "source": [
    "gb_neighbourhood = df.groupby('Neighbourhood')\n",
    "\n",
    "locations = np.arange(df['Neighbourhood'].nunique())\n",
    "\n",
    "width = 0.25\n",
    "\n",
    "plt.subplots(figsize=(20, 5))\n",
    "\n",
    "plt.bar(locations, gb_neighbourhood['did_show'].sum())\n",
    "\n",
    "plt.title('Total Shows For Each Neighbourhood')\n",
    "plt.xlabel('Neighbourhoods')\n",
    "plt.ylabel('Shows')\n",
    "plt.xticks(locations, gb_neighbourhood['did_show'].sum().index, rotation=90);\n"
   ]
  },
  {
   "cell_type": "markdown",
   "metadata": {
    "slideshow": {
     "slide_type": "subslide"
    }
   },
   "source": [
    "Now, the proportions for each neighbourhood for shows and no shows."
   ]
  },
  {
   "cell_type": "code",
   "execution_count": 41,
   "metadata": {
    "slideshow": {
     "slide_type": "subslide"
    }
   },
   "outputs": [
    {
     "data": {
      "image/png": "[encoded data removed]",
      "text/plain": [
       "<Figure size 1440x288 with 1 Axes>"
      ]
     },
     "metadata": {
      "needs_background": "light"
     },
     "output_type": "display_data"
    }
   ],
   "source": [
    "neighbourhood_props = get_props(gb_neighbourhood['did_show'])\n",
    "\n",
    "\n",
    "locations = np.arange(len(neighbourhood_props[0]))\n",
    "\n",
    "width = 0.25\n",
    "\n",
    "plt.subplots(figsize=(20, 4))\n",
    "\n",
    "plt.bar(locations + width, neighbourhood_props[0], width=width, label='Did Show')\n",
    "plt.bar(locations + width * 2, neighbourhood_props[1], width=width, label=\"Didn't Show\")\n",
    "\n",
    "plt.title('Proportions Of Both Groups In Each Neighbourhood')\n",
    "plt.xlabel('Neighbourhoods')\n",
    "plt.ylabel('Proportions')\n",
    "plt.xticks(locations + width / 2, neighbourhood_props[0].index, rotation=90)\n",
    "\n",
    "plt.legend();"
   ]
  },
  {
   "cell_type": "code",
   "execution_count": 42,
   "metadata": {
    "slideshow": {
     "slide_type": "subslide"
    }
   },
   "outputs": [
    {
     "data": {
      "text/plain": [
       "0.8032786885245902"
      ]
     },
     "execution_count": 42,
     "metadata": {},
     "output_type": "execute_result"
    }
   ],
   "source": [
    "neighbourhood_props[0].median()"
   ]
  },
  {
   "cell_type": "markdown",
   "metadata": {
    "slideshow": {
     "slide_type": "fragment"
    }
   },
   "source": [
    "The median attendence for the 81 neighbourhoods is 80%."
   ]
  },
  {
   "cell_type": "markdown",
   "metadata": {
    "slideshow": {
     "slide_type": "subslide"
    }
   },
   "source": [
    "Now, let's classify patients by what proportion does a patient attends his/her appointments i.e. if a patient has 5 appointments and they showed up for all 5 appointments, they have an attendence rate of 100% and so on, this can be used to predict if a patient is likely to show up or not based on past experiences with that patient."
   ]
  },
  {
   "cell_type": "code",
   "execution_count": 43,
   "metadata": {
    "slideshow": {
     "slide_type": "subslide"
    }
   },
   "outputs": [
    {
     "data": {
      "image/png": "[encoded data removed]",
      "text/plain": [
       "<Figure size 432x288 with 1 Axes>"
      ]
     },
     "metadata": {
      "needs_background": "light"
     },
     "output_type": "display_data"
    }
   ],
   "source": [
    "(get_props(gb_patientId['did_show'])[0] * 100).hist(grid=False)\n",
    "\n",
    "plt.title('Attendence Rate Frequency')\n",
    "plt.xlabel('Attendence Rate')\n",
    "plt.ylabel('Frequency');"
   ]
  },
  {
   "cell_type": "markdown",
   "metadata": {
    "slideshow": {
     "slide_type": "subslide"
    }
   },
   "source": [
    "The majority of the patients have an attendance rate of 100%, this can't be trusted since some of the patients have only one appointment registered, but it is a very good place to start."
   ]
  },
  {
   "cell_type": "markdown",
   "metadata": {
    "slideshow": {
     "slide_type": "subslide"
    }
   },
   "source": [
    "Now, we will display a bar plot for each age group and their attendence frequency."
   ]
  },
  {
   "cell_type": "code",
   "execution_count": 44,
   "metadata": {
    "slideshow": {
     "slide_type": "subslide"
    }
   },
   "outputs": [
    {
     "data": {
      "image/png": "[encoded data removed]",
      "text/plain": [
       "<Figure size 432x288 with 1 Axes>"
      ]
     },
     "metadata": {
      "needs_background": "light"
     },
     "output_type": "display_data"
    }
   ],
   "source": [
    "gb_age = df.groupby('AgeRange')\n",
    "\n",
    "ages_props = get_props(gb_age['did_show'])[0]\n",
    "\n",
    "locations = np.arange(len(ages_props))\n",
    "\n",
    "plt.bar(locations, ages_props, tick_label=age_ranges_labels);"
   ]
  },
  {
   "cell_type": "markdown",
   "metadata": {
    "slideshow": {
     "slide_type": "fragment"
    }
   },
   "source": [
    "Based on this plot we notice that the groups with the lowest attendence are the `10-20` and `20-30` age groups."
   ]
  },
  {
   "cell_type": "markdown",
   "metadata": {
    "slideshow": {
     "slide_type": "subslide"
    }
   },
   "source": [
    "Now let's take a look at the relationships between the various conditions that patients have and their relationship with the attendence status."
   ]
  },
  {
   "cell_type": "markdown",
   "metadata": {
    "slideshow": {
     "slide_type": "subslide"
    }
   },
   "source": [
    "The following plots that you will see are the conditions compared to the attendence status, they will show what proportion of the patients that have or don't have the condition have showed up for the appointment."
   ]
  },
  {
   "cell_type": "markdown",
   "metadata": {
    "slideshow": {
     "slide_type": "subslide"
    }
   },
   "source": [
    "First, we have the `Scholarship` variable."
   ]
  },
  {
   "cell_type": "code",
   "execution_count": 45,
   "metadata": {},
   "outputs": [
    {
     "data": {
      "image/png": "[encoded data removed]",
      "text/plain": [
       "<Figure size 432x288 with 1 Axes>"
      ]
     },
     "metadata": {
      "needs_background": "light"
     },
     "output_type": "display_data"
    }
   ],
   "source": [
    "sns.barplot(x = 'Scholarship', y = 'did_show', data=df)\n",
    "plt.ylabel('Attendence Proportion');"
   ]
  },
  {
   "cell_type": "markdown",
   "metadata": {
    "slideshow": {
     "slide_type": "subslide"
    }
   },
   "source": [
    "First, we have the `Hypertension` variable."
   ]
  },
  {
   "cell_type": "code",
   "execution_count": 46,
   "metadata": {},
   "outputs": [
    {
     "data": {
      "image/png": "[encoded data removed]",
      "text/plain": [
       "<Figure size 432x288 with 1 Axes>"
      ]
     },
     "metadata": {
      "needs_background": "light"
     },
     "output_type": "display_data"
    }
   ],
   "source": [
    "sns.barplot(x = 'Hypertension', y = 'did_show', data=df)\n",
    "plt.ylabel('Attendence Proportion');"
   ]
  },
  {
   "cell_type": "markdown",
   "metadata": {
    "slideshow": {
     "slide_type": "subslide"
    }
   },
   "source": [
    "First, we have the `Diabetes` variable."
   ]
  },
  {
   "cell_type": "code",
   "execution_count": 47,
   "metadata": {},
   "outputs": [
    {
     "data": {
      "image/png": "[encoded data removed]",
      "text/plain": [
       "<Figure size 432x288 with 1 Axes>"
      ]
     },
     "metadata": {
      "needs_background": "light"
     },
     "output_type": "display_data"
    }
   ],
   "source": [
    "sns.barplot(x = 'Diabetes', y = 'did_show', data=df)\n",
    "plt.ylabel('Attendence Proportion');"
   ]
  },
  {
   "cell_type": "markdown",
   "metadata": {
    "slideshow": {
     "slide_type": "subslide"
    }
   },
   "source": [
    "First, we have the `Alcoholism` variable."
   ]
  },
  {
   "cell_type": "code",
   "execution_count": 48,
   "metadata": {},
   "outputs": [
    {
     "data": {
      "image/png": "[encoded data removed]",
      "text/plain": [
       "<Figure size 432x288 with 1 Axes>"
      ]
     },
     "metadata": {
      "needs_background": "light"
     },
     "output_type": "display_data"
    }
   ],
   "source": [
    "sns.barplot(x = 'Alcoholism', y = 'did_show', data=df)\n",
    "plt.ylabel('Attendence Proportion');"
   ]
  },
  {
   "cell_type": "markdown",
   "metadata": {
    "slideshow": {
     "slide_type": "subslide"
    }
   },
   "source": [
    "First, we have the `Handicap` variable."
   ]
  },
  {
   "cell_type": "code",
   "execution_count": 49,
   "metadata": {},
   "outputs": [
    {
     "data": {
      "image/png": "[encoded data removed]",
      "text/plain": [
       "<Figure size 432x288 with 1 Axes>"
      ]
     },
     "metadata": {
      "needs_background": "light"
     },
     "output_type": "display_data"
    }
   ],
   "source": [
    "sns.barplot(x = 'Handicap', y = 'did_show', data=df)\n",
    "plt.ylabel('Attendence Proportion');"
   ]
  },
  {
   "cell_type": "markdown",
   "metadata": {
    "slideshow": {
     "slide_type": "subslide"
    }
   },
   "source": [
    "First, we have the `SMS_received` variable."
   ]
  },
  {
   "cell_type": "code",
   "execution_count": 50,
   "metadata": {},
   "outputs": [
    {
     "data": {
      "image/png": "[encoded data removed]",
      "text/plain": [
       "<Figure size 432x288 with 1 Axes>"
      ]
     },
     "metadata": {
      "needs_background": "light"
     },
     "output_type": "display_data"
    }
   ],
   "source": [
    "sns.barplot(x = 'SMS_received', y = 'did_show', data=df)\n",
    "plt.ylabel('Attendence Proportion');"
   ]
  },
  {
   "cell_type": "markdown",
   "metadata": {
    "slideshow": {
     "slide_type": "slide"
    }
   },
   "source": [
    "# Findings\n",
    "***\n",
    "Although we can't accurately predict what variables are more important than others and by how much are they important than the others, we did find a few characteristics that seemed to distinguish people who showed up for the appointment from those who didn't."
   ]
  },
  {
   "cell_type": "markdown",
   "metadata": {},
   "source": [
    "<div style=\"font-size: 17px; line-height: 200%;padding-left: 20px;\">\n",
    "\n",
    "<ul> \n",
    "\n",
    "<li>There is naturally a high possibilty that the patient will show up for the appointment, since there is an 80% chance that they will.</li>\n",
    "\n",
    "<li>We did notice that women had a lower attendence rate than men and higher missing than men, but by a small margin in both ways.</li>\n",
    "\n",
    "<li>We can infer that patients with a higher age are more likely to attend their appointments.</li>\n",
    "\n",
    "<li>The no show appointments tend to have a longer period between the `ScheduledDay` and `AppointmentDay` dates.</li>\n",
    "\n",
    "<li>The attendence rate for almost all the neighbourhoods are the same, we can't count on the `Neighbourhood` variable.</li>\n",
    "\n",
    "<li>We can somewhat depend on the past attendence rate of each patient to determine his/her attendence, given sufficient data.</li>\n",
    "\n",
    "<li>When we separated the patients into groups according to age, we found that patients in age groups from 10 to 30 have the lowest attendence rate than any other age groups.</li>\n",
    "\n",
    "<li>Patients with no Scholarship, Hypertension, Diabetes and Handicap are less likely to show up than those who have these conditions, but by a small margin.</li>    \n",
    "\n",
    "<li>Alcoholism has almost no effect on the attendence status.</li>\n",
    "    \n",
    "<li>Surprisingly, patients who do receive an SMS are less likely to show up than those who don't.</li>\n",
    "\n",
    "</ul>\n",
    "    \n",
    "</div>"
   ]
  },
  {
   "cell_type": "markdown",
   "metadata": {
    "slideshow": {
     "slide_type": "slide"
    }
   },
   "source": [
    "# Final Thoughts\n",
    "***\n",
    "Finally, I'd like to state that these analyses are not solid as they are based solely on observation, as this is a limitation of descriptive analysis, we would need to apply some sort of machine learning and statistical analysis in order to predict the outcome based on the patient's information that we have and to generalize the parameters on the population."
   ]
  },
  {
   "cell_type": "markdown",
   "metadata": {},
   "source": [
    "# Resources\n",
    "***\n",
    "* All of the code and datasets for this project are included on a [Github Repository](https://github.com/AbdulrahmanAlobaidy/DAND-project-2) dedicated for this project, including this Notebook in its `ipynb` format and HTML as well as this very slideshow itself.\n",
    "* This dataset is available on [Kaggle](https://www.kaggle.com/joniarroba/noshowappointments).\n"
   ]
  }
 ],
 "metadata": {
  "celltoolbar": "Slideshow",
  "kernelspec": {
   "display_name": "Python 3",
   "language": "python",
   "name": "python3"
  },
  "language_info": {
   "codemirror_mode": {
    "name": "ipython",
    "version": 3
   },
   "file_extension": ".py",
   "mimetype": "text/x-python",
   "name": "python",
   "nbconvert_exporter": "python",
   "pygments_lexer": "ipython3",
   "version": "3.6.12"
  }
 },
 "nbformat": 4,
 "nbformat_minor": 4
}
